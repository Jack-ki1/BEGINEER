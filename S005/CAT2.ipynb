{
 "cells": [
  {
   "cell_type": "markdown",
   "id": "f04bac3c-89ec-467e-8c58-5adb2eb0785a",
   "metadata": {},
   "source": [
    "## <span style=\"color:pink;\"><u><h4>QUESTION 1: </u></h4></span>"
   ]
  },
  {
   "cell_type": "markdown",
   "id": "3ad5fa9a-94bf-419b-af13-0ad3ffb46e9b",
   "metadata": {},
   "source": [
    "## <span style=\"color:black;\"><h6>a)Load the dataset and display the first 5 rows to understand the structure.</h6></span>"
   ]
  },
  {
   "cell_type": "markdown",
   "id": "c99ce905-5e60-405b-b8ac-d65fce8dc5c4",
   "metadata": {},
   "source": [
    "## <span style=\"color:black;\"><h6>b)Display summary statistics for numeric columns (mean, median, min, max, std) for Product_Price and Quantity.</h6></span>"
   ]
  },
  {
   "cell_type": "code",
   "execution_count": 4,
   "id": "9f8568ec-ceae-46d0-8079-80a7fde2dfd2",
   "metadata": {},
   "outputs": [],
   "source": [
    "import pandas as pd\n",
    "import numpy as np\n",
    "import matplotlib.pyplot as plt\n",
    "import seaborn as sns\n",
    "from datetime import datetime\n",
    "import plotly.express as px"
   ]
  },
  {
   "cell_type": "code",
   "execution_count": 5,
   "id": "cbaa1ca6-4b57-457e-903a-cf0e5a759b6a",
   "metadata": {},
   "outputs": [
    {
     "data": {
      "text/html": [
       "<div>\n",
       "<style scoped>\n",
       "    .dataframe tbody tr th:only-of-type {\n",
       "        vertical-align: middle;\n",
       "    }\n",
       "\n",
       "    .dataframe tbody tr th {\n",
       "        vertical-align: top;\n",
       "    }\n",
       "\n",
       "    .dataframe thead th {\n",
       "        text-align: right;\n",
       "    }\n",
       "</style>\n",
       "<table border=\"1\" class=\"dataframe\">\n",
       "  <thead>\n",
       "    <tr style=\"text-align: right;\">\n",
       "      <th></th>\n",
       "      <th>Order_ID</th>\n",
       "      <th>Customer_ID</th>\n",
       "      <th>Order_Date</th>\n",
       "      <th>Product_Category</th>\n",
       "      <th>Product_Price</th>\n",
       "      <th>Quantity</th>\n",
       "      <th>Payment_Method</th>\n",
       "      <th>Region</th>\n",
       "    </tr>\n",
       "  </thead>\n",
       "  <tbody>\n",
       "    <tr>\n",
       "      <th>0</th>\n",
       "      <td>O0001</td>\n",
       "      <td>C039</td>\n",
       "      <td>1/1/2023</td>\n",
       "      <td>Electronics</td>\n",
       "      <td>43.45</td>\n",
       "      <td>3.0</td>\n",
       "      <td>Credit Card</td>\n",
       "      <td>North</td>\n",
       "    </tr>\n",
       "    <tr>\n",
       "      <th>1</th>\n",
       "      <td>O0002</td>\n",
       "      <td>C029</td>\n",
       "      <td>1/2/2023</td>\n",
       "      <td>Books</td>\n",
       "      <td>32.77</td>\n",
       "      <td>4.0</td>\n",
       "      <td>Paypal</td>\n",
       "      <td>South</td>\n",
       "    </tr>\n",
       "    <tr>\n",
       "      <th>2</th>\n",
       "      <td>O0003</td>\n",
       "      <td>C015</td>\n",
       "      <td>1/3/2023</td>\n",
       "      <td>Books</td>\n",
       "      <td>44.84</td>\n",
       "      <td>3.0</td>\n",
       "      <td>Credit Card</td>\n",
       "      <td>North</td>\n",
       "    </tr>\n",
       "    <tr>\n",
       "      <th>3</th>\n",
       "      <td>O0004</td>\n",
       "      <td>C043</td>\n",
       "      <td>1/4/2023</td>\n",
       "      <td>Books</td>\n",
       "      <td>NaN</td>\n",
       "      <td>1.0</td>\n",
       "      <td>Credit Card</td>\n",
       "      <td>North</td>\n",
       "    </tr>\n",
       "    <tr>\n",
       "      <th>4</th>\n",
       "      <td>O0005</td>\n",
       "      <td>C008</td>\n",
       "      <td>1/5/2023</td>\n",
       "      <td>Home Decor</td>\n",
       "      <td>23.01</td>\n",
       "      <td>1.0</td>\n",
       "      <td>Paypal</td>\n",
       "      <td>South</td>\n",
       "    </tr>\n",
       "  </tbody>\n",
       "</table>\n",
       "</div>"
      ],
      "text/plain": [
       "  Order_ID Customer_ID Order_Date Product_Category  Product_Price  Quantity  \\\n",
       "0    O0001        C039   1/1/2023      Electronics          43.45       3.0   \n",
       "1    O0002        C029   1/2/2023            Books          32.77       4.0   \n",
       "2    O0003        C015   1/3/2023            Books          44.84       3.0   \n",
       "3    O0004        C043   1/4/2023            Books            NaN       1.0   \n",
       "4    O0005        C008   1/5/2023       Home Decor          23.01       1.0   \n",
       "\n",
       "  Payment_Method Region  \n",
       "0    Credit Card  North  \n",
       "1         Paypal  South  \n",
       "2    Credit Card  North  \n",
       "3    Credit Card  North  \n",
       "4         Paypal  South  "
      ]
     },
     "execution_count": 5,
     "metadata": {},
     "output_type": "execute_result"
    }
   ],
   "source": [
    "df=pd.read_csv(\"CAT 2 DATA.csv\")\n",
    "df.head(5)"
   ]
  },
  {
   "cell_type": "code",
   "execution_count": 6,
   "id": "5ff12816-c4f9-4053-899e-b528fb17ff4f",
   "metadata": {},
   "outputs": [],
   "source": [
    "#b)\tDisplay summary statistics for numeric columns (mean, median, min, max, std) for Product_Price and Quantity."
   ]
  },
  {
   "cell_type": "code",
   "execution_count": 7,
   "id": "27dcde4c-e1b0-44ba-a933-16971e65fdc7",
   "metadata": {},
   "outputs": [
    {
     "data": {
      "text/plain": [
       "mean      49.615474\n",
       "median    49.770000\n",
       "min       -7.590000\n",
       "max       95.470000\n",
       "std       20.489004\n",
       "Name: Product_Price, dtype: float64"
      ]
     },
     "execution_count": 7,
     "metadata": {},
     "output_type": "execute_result"
    }
   ],
   "source": [
    "df['Product_Price'].agg(['mean','median','min', 'max', 'std'])"
   ]
  },
  {
   "cell_type": "code",
   "execution_count": 8,
   "id": "6cfb4ac0-1493-4f41-9229-b0c9d2b44d28",
   "metadata": {},
   "outputs": [
    {
     "data": {
      "text/plain": [
       "mean      4.810000\n",
       "median    5.000000\n",
       "min       1.000000\n",
       "max       9.000000\n",
       "std       2.557204\n",
       "Name: Quantity, dtype: float64"
      ]
     },
     "execution_count": 8,
     "metadata": {},
     "output_type": "execute_result"
    }
   ],
   "source": [
    "df['Quantity'].agg(['mean','median','min', 'max', 'std'])"
   ]
  },
  {
   "cell_type": "markdown",
   "id": "ad3e9e7b-0762-40ac-a15e-5512405426fb",
   "metadata": {},
   "source": [
    "## <span style=\"color:pink;\"><u><h4>QUESTION 2: </u></h4></span>"
   ]
  },
  {
   "cell_type": "markdown",
   "id": "62fa94a0-0fca-43f1-8d3c-f60459f1de27",
   "metadata": {},
   "source": [
    "## <span style=\"color:black;\"><h6>a)Check for missing values in the dataset.</h6></span>"
   ]
  },
  {
   "cell_type": "markdown",
   "id": "f393afea-e629-4c90-ba10-cd4ffd0e033a",
   "metadata": {},
   "source": [
    "## <span style=\"color:black;\"><h6>b)Provide a strategy to handle missing data for Product_Price and Region. Implement mean/median imputation for Product_Price and drop rows where Region is missing.</h6></span>"
   ]
  },
  {
   "cell_type": "code",
   "execution_count": 12,
   "id": "59043abf-411c-4d48-992c-d3e17c940126",
   "metadata": {},
   "outputs": [],
   "source": [
    "df=df.drop(100) #the row is fully empty hence inappropriate"
   ]
  },
  {
   "cell_type": "code",
   "execution_count": 13,
   "id": "3e68f466-8182-4ee6-8e6b-d5e35abf4fe2",
   "metadata": {},
   "outputs": [
    {
     "data": {
      "text/plain": [
       "Order_ID            0\n",
       "Customer_ID         0\n",
       "Order_Date          0\n",
       "Product_Category    0\n",
       "Product_Price       5\n",
       "Quantity            0\n",
       "Payment_Method      0\n",
       "Region              5\n",
       "dtype: int64"
      ]
     },
     "execution_count": 13,
     "metadata": {},
     "output_type": "execute_result"
    }
   ],
   "source": [
    "df.isnull().sum()"
   ]
  },
  {
   "cell_type": "code",
   "execution_count": 14,
   "id": "e9693aba-8da3-45f5-bbe6-638ba00aba6d",
   "metadata": {},
   "outputs": [],
   "source": [
    "#Implement mean/median imputation for Product_Price \n",
    "# Fill missing values in the 'Product_Price' column with its mean\n",
    "df.loc[:, 'Product_Price'] = df['Product_Price'].fillna(df['Product_Price'].mean())"
   ]
  },
  {
   "cell_type": "code",
   "execution_count": 15,
   "id": "5c13ac5f-b8ac-4af9-b363-e4bd57317054",
   "metadata": {},
   "outputs": [],
   "source": [
    "# Drop the row where REGION is null\n",
    "df.dropna(subset=[\"Region\"], inplace=True)"
   ]
  },
  {
   "cell_type": "code",
   "execution_count": 16,
   "id": "048c7d65-b98d-41ce-94e3-82176548bd4e",
   "metadata": {},
   "outputs": [
    {
     "data": {
      "text/html": [
       "<div>\n",
       "<style scoped>\n",
       "    .dataframe tbody tr th:only-of-type {\n",
       "        vertical-align: middle;\n",
       "    }\n",
       "\n",
       "    .dataframe tbody tr th {\n",
       "        vertical-align: top;\n",
       "    }\n",
       "\n",
       "    .dataframe thead th {\n",
       "        text-align: right;\n",
       "    }\n",
       "</style>\n",
       "<table border=\"1\" class=\"dataframe\">\n",
       "  <thead>\n",
       "    <tr style=\"text-align: right;\">\n",
       "      <th></th>\n",
       "      <th>Order_ID</th>\n",
       "      <th>Customer_ID</th>\n",
       "      <th>Order_Date</th>\n",
       "      <th>Product_Category</th>\n",
       "      <th>Product_Price</th>\n",
       "      <th>Quantity</th>\n",
       "      <th>Payment_Method</th>\n",
       "      <th>Region</th>\n",
       "    </tr>\n",
       "  </thead>\n",
       "  <tbody>\n",
       "    <tr>\n",
       "      <th>0</th>\n",
       "      <td>O0001</td>\n",
       "      <td>C039</td>\n",
       "      <td>1/1/2023</td>\n",
       "      <td>Electronics</td>\n",
       "      <td>43.450000</td>\n",
       "      <td>3.0</td>\n",
       "      <td>Credit Card</td>\n",
       "      <td>North</td>\n",
       "    </tr>\n",
       "    <tr>\n",
       "      <th>1</th>\n",
       "      <td>O0002</td>\n",
       "      <td>C029</td>\n",
       "      <td>1/2/2023</td>\n",
       "      <td>Books</td>\n",
       "      <td>32.770000</td>\n",
       "      <td>4.0</td>\n",
       "      <td>Paypal</td>\n",
       "      <td>South</td>\n",
       "    </tr>\n",
       "    <tr>\n",
       "      <th>2</th>\n",
       "      <td>O0003</td>\n",
       "      <td>C015</td>\n",
       "      <td>1/3/2023</td>\n",
       "      <td>Books</td>\n",
       "      <td>44.840000</td>\n",
       "      <td>3.0</td>\n",
       "      <td>Credit Card</td>\n",
       "      <td>North</td>\n",
       "    </tr>\n",
       "    <tr>\n",
       "      <th>3</th>\n",
       "      <td>O0004</td>\n",
       "      <td>C043</td>\n",
       "      <td>1/4/2023</td>\n",
       "      <td>Books</td>\n",
       "      <td>49.615474</td>\n",
       "      <td>1.0</td>\n",
       "      <td>Credit Card</td>\n",
       "      <td>North</td>\n",
       "    </tr>\n",
       "    <tr>\n",
       "      <th>4</th>\n",
       "      <td>O0005</td>\n",
       "      <td>C008</td>\n",
       "      <td>1/5/2023</td>\n",
       "      <td>Home Decor</td>\n",
       "      <td>23.010000</td>\n",
       "      <td>1.0</td>\n",
       "      <td>Paypal</td>\n",
       "      <td>South</td>\n",
       "    </tr>\n",
       "    <tr>\n",
       "      <th>...</th>\n",
       "      <td>...</td>\n",
       "      <td>...</td>\n",
       "      <td>...</td>\n",
       "      <td>...</td>\n",
       "      <td>...</td>\n",
       "      <td>...</td>\n",
       "      <td>...</td>\n",
       "      <td>...</td>\n",
       "    </tr>\n",
       "    <tr>\n",
       "      <th>95</th>\n",
       "      <td>O0096</td>\n",
       "      <td>C001</td>\n",
       "      <td>4/6/2023</td>\n",
       "      <td>Clothing</td>\n",
       "      <td>67.440000</td>\n",
       "      <td>5.0</td>\n",
       "      <td>Cash on Delivery</td>\n",
       "      <td>West</td>\n",
       "    </tr>\n",
       "    <tr>\n",
       "      <th>96</th>\n",
       "      <td>O0097</td>\n",
       "      <td>C025</td>\n",
       "      <td>4/7/2023</td>\n",
       "      <td>Clothing</td>\n",
       "      <td>76.010000</td>\n",
       "      <td>6.0</td>\n",
       "      <td>Credit Card</td>\n",
       "      <td>South</td>\n",
       "    </tr>\n",
       "    <tr>\n",
       "      <th>97</th>\n",
       "      <td>O0098</td>\n",
       "      <td>C007</td>\n",
       "      <td>4/8/2023</td>\n",
       "      <td>Home Decor</td>\n",
       "      <td>23.130000</td>\n",
       "      <td>7.0</td>\n",
       "      <td>Cash on Delivery</td>\n",
       "      <td>West</td>\n",
       "    </tr>\n",
       "    <tr>\n",
       "      <th>98</th>\n",
       "      <td>O0099</td>\n",
       "      <td>C009</td>\n",
       "      <td>4/9/2023</td>\n",
       "      <td>Books</td>\n",
       "      <td>67.000000</td>\n",
       "      <td>3.0</td>\n",
       "      <td>Credit Card</td>\n",
       "      <td>East</td>\n",
       "    </tr>\n",
       "    <tr>\n",
       "      <th>99</th>\n",
       "      <td>O0100</td>\n",
       "      <td>C024</td>\n",
       "      <td>4/10/2023</td>\n",
       "      <td>Clothing</td>\n",
       "      <td>57.890000</td>\n",
       "      <td>3.0</td>\n",
       "      <td>Cash on Delivery</td>\n",
       "      <td>East</td>\n",
       "    </tr>\n",
       "  </tbody>\n",
       "</table>\n",
       "<p>95 rows × 8 columns</p>\n",
       "</div>"
      ],
      "text/plain": [
       "   Order_ID Customer_ID Order_Date Product_Category  Product_Price  Quantity  \\\n",
       "0     O0001        C039   1/1/2023      Electronics      43.450000       3.0   \n",
       "1     O0002        C029   1/2/2023            Books      32.770000       4.0   \n",
       "2     O0003        C015   1/3/2023            Books      44.840000       3.0   \n",
       "3     O0004        C043   1/4/2023            Books      49.615474       1.0   \n",
       "4     O0005        C008   1/5/2023       Home Decor      23.010000       1.0   \n",
       "..      ...         ...        ...              ...            ...       ...   \n",
       "95    O0096        C001   4/6/2023         Clothing      67.440000       5.0   \n",
       "96    O0097        C025   4/7/2023         Clothing      76.010000       6.0   \n",
       "97    O0098        C007   4/8/2023       Home Decor      23.130000       7.0   \n",
       "98    O0099        C009   4/9/2023            Books      67.000000       3.0   \n",
       "99    O0100        C024  4/10/2023         Clothing      57.890000       3.0   \n",
       "\n",
       "      Payment_Method Region  \n",
       "0        Credit Card  North  \n",
       "1             Paypal  South  \n",
       "2        Credit Card  North  \n",
       "3        Credit Card  North  \n",
       "4             Paypal  South  \n",
       "..               ...    ...  \n",
       "95  Cash on Delivery   West  \n",
       "96       Credit Card  South  \n",
       "97  Cash on Delivery   West  \n",
       "98       Credit Card   East  \n",
       "99  Cash on Delivery   East  \n",
       "\n",
       "[95 rows x 8 columns]"
      ]
     },
     "execution_count": 16,
     "metadata": {},
     "output_type": "execute_result"
    }
   ],
   "source": [
    "df"
   ]
  },
  {
   "cell_type": "code",
   "execution_count": 17,
   "id": "3e4b6359-e891-444b-b5d5-62310cecfc97",
   "metadata": {},
   "outputs": [
    {
     "data": {
      "text/plain": [
       "(95, 8)"
      ]
     },
     "execution_count": 17,
     "metadata": {},
     "output_type": "execute_result"
    }
   ],
   "source": [
    "df.shape"
   ]
  },
  {
   "cell_type": "markdown",
   "id": "3a4f6ed5-14e5-4bb0-ba41-70efad3920ed",
   "metadata": {},
   "source": [
    "## <span style=\"color:pink;\"><h4>QUESTION 3: </h4></span>"
   ]
  },
  {
   "cell_type": "markdown",
   "id": "09d36ae2-fd40-442c-bfb9-ebbfa17072cf",
   "metadata": {},
   "source": [
    "## <span style=\"color:black;\"><h6>a)Generate a bar chart showing the total quantity sold for each Product_Category</h6></span>"
   ]
  },
  {
   "cell_type": "code",
   "execution_count": 20,
   "id": "b56f07de-0994-49f3-b03b-7fa62842ba5a",
   "metadata": {},
   "outputs": [
    {
     "data": {
      "text/plain": [
       "Product_Category\n",
       "Books          115.0\n",
       "Clothing       101.0\n",
       "Electronics     94.0\n",
       "Home Decor     143.0\n",
       "Name: Quantity, dtype: float64"
      ]
     },
     "execution_count": 20,
     "metadata": {},
     "output_type": "execute_result"
    }
   ],
   "source": [
    "#GROUP BY is to help prevent duplication of the attributes\n",
    "category_totals  = df.groupby(\"Product_Category\")[\"Quantity\"].sum()\n",
    "category_totals"
   ]
  },
  {
   "cell_type": "code",
   "execution_count": 21,
   "id": "fe827942-e7cf-4f95-8cf0-6fb8dc6d5803",
   "metadata": {},
   "outputs": [
    {
     "data": {
      "text/plain": [
       "Text(0, 0.5, 'Total quantity sold')"
      ]
     },
     "execution_count": 21,
     "metadata": {},
     "output_type": "execute_result"
    },
    {
     "data": {
      "image/png": "[encoded data removed]",
      "text/plain": [
       "<Figure size 800x500 with 1 Axes>"
      ]
     },
     "metadata": {},
     "output_type": "display_data"
    }
   ],
   "source": [
    "plt.figure(figsize=(8,5))\n",
    "sns.barplot(x=category_totals.index, y=category_totals.values)\n",
    "plt.title(\"TOTAL QUANTITY SOLD BY PRODUCT CATEGORY\")\n",
    "plt.xlabel(\"Product Category\")\n",
    "plt.ylabel(\"Total quantity sold\")"
   ]
  },
  {
   "cell_type": "markdown",
   "id": "415d3506-0161-4861-8944-c7fdbd38ca04",
   "metadata": {},
   "source": [
    "## <span style=\"color:black;\"><h7> b)\tWhich product category has the highest sales quantity?</h7></span> \n",
    "## <span style=\"color:blue;\"><h6> as per the bar chat Home decor has the highest sales quantity which is 143.0</h6></span>"
   ]
  },
  {
   "cell_type": "markdown",
   "id": "17a3a833-174e-41d3-8b18-c8f9f3dce528",
   "metadata": {},
   "source": [
    "## <span style=\"color:pink;\"><h7> question 4</h7></span> \n",
    "## <span style=\"color:black;\"><h6>a)\tCreate a boxplot to visualize the distribution of Product_Price across different Product_Category</h6></span>"
   ]
  },
  {
   "cell_type": "code",
   "execution_count": null,
   "id": "49cd84b2-5e95-4ecd-a8e8-3edf97470937",
   "metadata": {},
   "outputs": [],
   "source": []
  },
  {
   "cell_type": "code",
   "execution_count": 24,
   "id": "3e3e33fe-f3e9-453d-93fb-2aee282161bd",
   "metadata": {
    "scrolled": true
   },
   "outputs": [
    {
     "data": {
      "image/png": "[encoded data removed]",
      "text/plain": [
       "<Figure size 800x500 with 1 Axes>"
      ]
     },
     "metadata": {},
     "output_type": "display_data"
    }
   ],
   "source": [
    "# Create the boxplot\n",
    "plt.figure(figsize=(8, 5))\n",
    "sns.boxplot(x='Product_Category', y='Product_Price', hue='Product_Category', data=df, palette='Set2')\n",
    "plt.title('BOX PLOT TO SHOW PRICE DISTRIBUTION BY CATEGORY')\n",
    "plt.xlabel('Product Category')\n",
    "plt.ylabel('Product Price')\n",
    "plt.show()"
   ]
  },
  {
   "cell_type": "markdown",
   "id": "feea7c6d-b7d8-4bc9-9d5e-578e9f1ef4b0",
   "metadata": {},
   "source": [
    "## <span style=\"color:black;\"><h6> b) From the boxplot, which category has the most expensive products on average?</h6></span>\n",
    "## <span style=\"color:blue;\"><h6>Based on the median value, Home Decor is the category with the most expensive products on average. This conclusion is reinforced by its high median price and larger spread compared to the other categories. While some categories (like Books and Clothing) have a wide range of prices, their median values are lower than that of Home Decor.</h6></span>"
   ]
  },
  {
   "cell_type": "markdown",
   "id": "8621657b-9f10-4a3b-82ad-215880d1a286",
   "metadata": {},
   "source": [
    "## <span style=\"color:pink;\"><h4>QUESTION 5A: </h4></span>\n",
    "## <span style=\"color:black;\"><h4>Analyze the relationship between Order_Date and Quantity. Create a time series plot of total quantity sold per month.</h4></span>"
   ]
  },
  {
   "cell_type": "code",
   "execution_count": 30,
   "id": "d9dca8cf-97c4-4242-98a4-791295f36b70",
   "metadata": {},
   "outputs": [],
   "source": [
    "# Ensure Order_Date is datetime format\n",
    "df['Order_Date'] = pd.to_datetime(df['Order_Date'])"
   ]
  },
  {
   "cell_type": "code",
   "execution_count": 32,
   "id": "d5a2fc81-324b-406f-95a8-f5a68ac9e4c3",
   "metadata": {},
   "outputs": [
    {
     "data": {
      "image/png": "[encoded data removed]",
      "text/plain": [
       "<Figure size 1000x600 with 1 Axes>"
      ]
     },
     "metadata": {},
     "output_type": "display_data"
    }
   ],
   "source": [
    "# Alternative: Resample by month\n",
    "monthly_sales = df.resample('ME', on='Order_Date')['Quantity'].sum()\n",
    "\n",
    "# Plot the time series\n",
    "plt.figure(figsize=(10, 6))\n",
    "plt.plot(monthly_sales.index, monthly_sales.values, marker='o', linestyle='-')\n",
    "plt.title('Total Quantity Sold Per Month')\n",
    "plt.xlabel('Month')\n",
    "plt.ylabel('Total Quantity')\n",
    "plt.grid(True)\n",
    "plt.show()"
   ]
  },
  {
   "cell_type": "markdown",
   "id": "27454415-1d8e-4d93-8ac3-f5083ed6bb40",
   "metadata": {},
   "source": [
    "## <span style=\"color:pink;\"><u><h4>QUESTION 5B: </u></h4></span>"
   ]
  },
  {
   "cell_type": "markdown",
   "id": "03c459b3-2e32-4d25-8fd0-24c57a974a15",
   "metadata": {},
   "source": [
    "## <span style=\"color:black;\"><h6>:Describe the seasonal trends or patterns you observe in the data? </h6></span>\n",
    "## <span style=\"color:blue;\"><h6>from the start of february to the start of march a moderate rise in the total quantity sold is seen , then from the start of march to almost april there is a more impulsive rise in the total quantitysold. But the rising curve changes drastically and begins to move down-wards impulsively from start of april to the start of may hence showing a very huge decline in total quantity sold.  </h6></span>"
   ]
  },
  {
   "cell_type": "markdown",
   "id": "f1a8e578-b4df-4e5d-867a-4753608df122",
   "metadata": {},
   "source": [
    "## <span style=\"color:pink;\"><h4>QUESTION 5C(i):</h4></span>\n",
    "## <span style=\"color:black;\"><h4>correlation heatmap for numeric variables</h4></span>"
   ]
  },
  {
   "cell_type": "code",
   "execution_count": 34,
   "id": "6e5d69aa-60ca-4b56-aab8-99287f8b621f",
   "metadata": {},
   "outputs": [
    {
     "data": {
      "image/png": "[encoded data removed]",
      "text/plain": [
       "<Figure size 800x600 with 2 Axes>"
      ]
     },
     "metadata": {},
     "output_type": "display_data"
    }
   ],
   "source": [
    "# b) Correlation heatmap\n",
    "# Select only numeric columns for correlation\n",
    "numeric_df = df.select_dtypes(include=['number'])\n",
    "\n",
    "# Compute correlation matrix\n",
    "corr_matrix = numeric_df.corr()\n",
    "\n",
    "# Plot the heatmap\n",
    "plt.figure(figsize=(8, 6))\n",
    "sns.heatmap(corr_matrix, annot=True, cmap='coolwarm', fmt='.2f')\n",
    "plt.title('Correlation Heatmap')\n",
    "plt.show() "
   ]
  },
  {
   "cell_type": "markdown",
   "id": "2618bbde-58ae-48a3-9f7d-982e93825b53",
   "metadata": {},
   "source": [
    "## <span style=\"color:pink;\"><h4>QUESTION 5C(i):</h4></span>\n",
    "## <span style=\"color:black;\"><h4>correlation matrix plot for numeric variables</h4></span>"
   ]
  },
  {
   "cell_type": "code",
   "execution_count": null,
   "id": "674777ef-f158-4fcd-9434-19c542bf5463",
   "metadata": {
    "scrolled": true
   },
   "outputs": [],
   "source": [
    "#Correlation matrix plot (Seaborn)\n",
    "sns.pairplot(df)\n",
    "plt.suptitle('Pairplot of Numeric Variables', y=1.02)\n",
    "plt.show()"
   ]
  },
  {
   "cell_type": "markdown",
   "id": "eca49170-0d51-4cd8-9b9d-d04abcc89e70",
   "metadata": {},
   "source": [
    "## <span style=\"color:orange;\"><h2>Interpret any strong positive or negative correlations found?</h2></span>"
   ]
  },
  {
   "cell_type": "markdown",
   "id": "eb94bb15-08cc-4330-97c1-d21b39a9b9cb",
   "metadata": {},
   "source": [
    "<P>Based on the correlation plot and scatter plot matrix from the graphs,  the interpretation is :</br>\n",
    "\n",
    "Strong Positive Correlation:</br>\n",
    "\n",
    "The correlation plot shows a deep blue color in the diagonal, indicating a strong positive correlation between variables with themselves (which is expected).</br>\n",
    "\n",
    "However, the correlation between Product_Price and Quantity appears weak, meaning they do not have a strong positive relationship.</br>\n",
    "\n",
    "Strong Negative Correlation:</br>\n",
    "\n",
    "There does not appear to be any strong red-colored negative correlations in the heatmap.</br>\n",
    "\n",
    "This suggests that Product_Price and Quantity do not have a strong inverse relationship—an increase in one does not strongly cause the other to decrease.</br></p>"
   ]
  },
  {
   "cell_type": "code",
   "execution_count": null,
   "id": "24b61261-d6d9-48f2-a026-48beee00a451",
   "metadata": {},
   "outputs": [],
   "source": []
  },
  {
   "cell_type": "code",
   "execution_count": null,
   "id": "c094e4ce-1734-450f-b94e-cf13a2532618",
   "metadata": {},
   "outputs": [],
   "source": []
  },
  {
   "cell_type": "code",
   "execution_count": null,
   "id": "3efcbe2e-8eda-4d75-bf91-6ea002d289b1",
   "metadata": {},
   "outputs": [],
   "source": []
  },
  {
   "cell_type": "code",
   "execution_count": null,
   "id": "d29afd9e-8eb0-40cf-823e-ebeda4f3fc22",
   "metadata": {},
   "outputs": [],
   "source": []
  },
  {
   "cell_type": "code",
   "execution_count": null,
   "id": "0a651cab-54f3-4519-87f0-7782463f6882",
   "metadata": {},
   "outputs": [],
   "source": []
  },
  {
   "cell_type": "code",
   "execution_count": null,
   "id": "b850e150-e28e-47e2-a35e-1c9c79785467",
   "metadata": {},
   "outputs": [],
   "source": []
  },
  {
   "cell_type": "code",
   "execution_count": null,
   "id": "9811db4a-0d7e-4056-8b98-894c0f1fa4e0",
   "metadata": {},
   "outputs": [],
   "source": []
  }
 ],
 "metadata": {
  "kernelspec": {
   "display_name": "Python 3.12",
   "language": "python",
   "name": "python3.12"
  },
  "language_info": {
   "codemirror_mode": {
    "name": "ipython",
    "version": 3
   },
   "file_extension": ".py",
   "mimetype": "text/x-python",
   "name": "python",
   "nbconvert_exporter": "python",
   "pygments_lexer": "ipython3",
   "version": "3.12.3"
  }
 },
 "nbformat": 4,
 "nbformat_minor": 5
}
